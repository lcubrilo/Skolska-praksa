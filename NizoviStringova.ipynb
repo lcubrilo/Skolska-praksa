{
 "cells": [
  {
   "cell_type": "markdown",
   "metadata": {
    "slideshow": {
     "slide_type": "slide"
    }
   },
   "source": [
    "# Nizovi stringova\n",
    "Predmet: Računarstvo i informatika  \n",
    "Student: Luka Čubrilo  \n",
    "\n"
   ]
  },
  {
   "cell_type": "markdown",
   "metadata": {
    "slideshow": {
     "slide_type": "slide"
    }
   },
   "source": [
    "## Uvod\n",
    "Moguće je deklarisati niz bilo kog tipa, pa tako i za tip `string` (\"niske\")"
   ]
  },
  {
   "cell_type": "code",
   "execution_count": 1,
   "metadata": {
    "dotnet_interactive": {
     "language": "csharp"
    },
    "polyglot_notebook": {
     "kernelName": "csharp"
    },
    "slideshow": {
     "slide_type": "fragment"
    },
    "vscode": {
     "languageId": "polyglot-notebook"
    }
   },
   "outputs": [
    {
     "data": {
      "text/html": [
       "\r\n",
       "<div>\r\n",
       "    <div id='dotnet-interactive-this-cell-22868.Microsoft.DotNet.Interactive.Http.HttpPort' style='display: none'>\r\n",
       "        The below script needs to be able to find the current output cell; this is an easy method to get it.\r\n",
       "    </div>\r\n",
       "    <script type='text/javascript'>\r\n",
       "async function probeAddresses(probingAddresses) {\r\n",
       "    function timeout(ms, promise) {\r\n",
       "        return new Promise(function (resolve, reject) {\r\n",
       "            setTimeout(function () {\r\n",
       "                reject(new Error('timeout'))\r\n",
       "            }, ms)\r\n",
       "            promise.then(resolve, reject)\r\n",
       "        })\r\n",
       "    }\r\n",
       "\r\n",
       "    if (Array.isArray(probingAddresses)) {\r\n",
       "        for (let i = 0; i < probingAddresses.length; i++) {\r\n",
       "\r\n",
       "            let rootUrl = probingAddresses[i];\r\n",
       "\r\n",
       "            if (!rootUrl.endsWith('/')) {\r\n",
       "                rootUrl = `${rootUrl}/`;\r\n",
       "            }\r\n",
       "\r\n",
       "            try {\r\n",
       "                let response = await timeout(1000, fetch(`${rootUrl}discovery`, {\r\n",
       "                    method: 'POST',\r\n",
       "                    cache: 'no-cache',\r\n",
       "                    mode: 'cors',\r\n",
       "                    timeout: 1000,\r\n",
       "                    headers: {\r\n",
       "                        'Content-Type': 'text/plain'\r\n",
       "                    },\r\n",
       "                    body: probingAddresses[i]\r\n",
       "                }));\r\n",
       "\r\n",
       "                if (response.status == 200) {\r\n",
       "                    return rootUrl;\r\n",
       "                }\r\n",
       "            }\r\n",
       "            catch (e) { }\r\n",
       "        }\r\n",
       "    }\r\n",
       "}\r\n",
       "\r\n",
       "function loadDotnetInteractiveApi() {\r\n",
       "    probeAddresses([\"http://10.2.0.2:2048/\", \"http://192.168.56.1:2048/\", \"http://192.168.137.1:2048/\", \"http://192.168.0.6:2048/\", \"http://127.0.0.1:2048/\"])\r\n",
       "        .then((root) => {\r\n",
       "        // use probing to find host url and api resources\r\n",
       "        // load interactive helpers and language services\r\n",
       "        let dotnetInteractiveRequire = require.config({\r\n",
       "        context: '22868.Microsoft.DotNet.Interactive.Http.HttpPort',\r\n",
       "                paths:\r\n",
       "            {\r\n",
       "                'dotnet-interactive': `${root}resources`\r\n",
       "                }\r\n",
       "        }) || require;\r\n",
       "\r\n",
       "            window.dotnetInteractiveRequire = dotnetInteractiveRequire;\r\n",
       "\r\n",
       "            window.configureRequireFromExtension = function(extensionName, extensionCacheBuster) {\r\n",
       "                let paths = {};\r\n",
       "                paths[extensionName] = `${root}extensions/${extensionName}/resources/`;\r\n",
       "                \r\n",
       "                let internalRequire = require.config({\r\n",
       "                    context: extensionCacheBuster,\r\n",
       "                    paths: paths,\r\n",
       "                    urlArgs: `cacheBuster=${extensionCacheBuster}`\r\n",
       "                    }) || require;\r\n",
       "\r\n",
       "                return internalRequire\r\n",
       "            };\r\n",
       "        \r\n",
       "            dotnetInteractiveRequire([\r\n",
       "                    'dotnet-interactive/dotnet-interactive'\r\n",
       "                ],\r\n",
       "                function (dotnet) {\r\n",
       "                    dotnet.init(window);\r\n",
       "                },\r\n",
       "                function (error) {\r\n",
       "                    console.log(error);\r\n",
       "                }\r\n",
       "            );\r\n",
       "        })\r\n",
       "        .catch(error => {console.log(error);});\r\n",
       "    }\r\n",
       "\r\n",
       "// ensure `require` is available globally\r\n",
       "if ((typeof(require) !==  typeof(Function)) || (typeof(require.config) !== typeof(Function))) {\r\n",
       "    let require_script = document.createElement('script');\r\n",
       "    require_script.setAttribute('src', 'https://cdnjs.cloudflare.com/ajax/libs/require.js/2.3.6/require.min.js');\r\n",
       "    require_script.setAttribute('type', 'text/javascript');\r\n",
       "    \r\n",
       "    \r\n",
       "    require_script.onload = function() {\r\n",
       "        loadDotnetInteractiveApi();\r\n",
       "    };\r\n",
       "\r\n",
       "    document.getElementsByTagName('head')[0].appendChild(require_script);\r\n",
       "}\r\n",
       "else {\r\n",
       "    loadDotnetInteractiveApi();\r\n",
       "}\r\n",
       "\r\n",
       "    </script>\r\n",
       "</div>"
      ]
     },
     "metadata": {},
     "output_type": "display_data"
    },
    {
     "name": "stdout",
     "output_type": "stream",
     "text": [
      "Niz stringova ima sledeći sadržaj: System.String[].\n",
      "Promenljiva `s` je tipa System.String[]\n"
     ]
    }
   ],
   "source": [
    "string [] s = {\"Hello\", \"World\", \"My\", \"Name\", \"Is\"};\n",
    "Console.WriteLine($\"Niz stringova ima sledeći sadržaj: {s}.\");\n",
    "Console.WriteLine($\"Promenljiva `s` je tipa {s.GetType()}\");"
   ]
  },
  {
   "cell_type": "markdown",
   "metadata": {
    "slideshow": {
     "slide_type": "subslide"
    }
   },
   "source": [
    "Pristupamo stringovima u ovom nizu, kao i članovima bilo kog drugog niza:"
   ]
  },
  {
   "cell_type": "code",
   "execution_count": 2,
   "metadata": {
    "dotnet_interactive": {
     "language": "csharp"
    },
    "polyglot_notebook": {
     "kernelName": "csharp"
    },
    "slideshow": {
     "slide_type": "fragment"
    },
    "vscode": {
     "languageId": "polyglot-notebook"
    }
   },
   "outputs": [
    {
     "name": "stdout",
     "output_type": "stream",
     "text": [
      "Dok su njeni članovi tipa System.String\n",
      "Hello\n",
      "World\n",
      "My\n",
      "Name\n",
      "Is\n"
     ]
    }
   ],
   "source": [
    "// 1. Korišćenjem uglastih zagrada i indeksa\n",
    "Console.WriteLine($\"Dok su njeni članovi tipa {s[0].GetType()}\");\n",
    "\n",
    "// 2. Korišćenjem foreach petlje\n",
    "foreach(string rec in s){  \n",
    "    Console.WriteLine(rec);\n",
    "}"
   ]
  },
  {
   "cell_type": "markdown",
   "metadata": {
    "slideshow": {
     "slide_type": "subslide"
    }
   },
   "source": [
    "Primer [iz profesorove knjige]:"
   ]
  },
  {
   "cell_type": "code",
   "execution_count": null,
   "metadata": {
    "dotnet_interactive": {
     "language": "csharp"
    },
    "polyglot_notebook": {
     "kernelName": "csharp"
    },
    "slideshow": {
     "slide_type": "fragment"
    },
    "vscode": {
     "languageId": "polyglot-notebook"
    }
   },
   "outputs": [],
   "source": [
    "string[] jedinice = { \"\", \"one\", \"two\", \"three\",\n",
    "\"four\", \"five\", \"six\", \"seven\", \"eight\", \"nine\", \"ten\",\n",
    "\"eleven\", \"twelve\", \"thirteen\", \"fourteen\", \"fifteen\",\n",
    "\"sixteen\", \"seventeen\", \"eighteen\", \"nineteen\" };\n",
    "\n",
    "string[] desetice = { \"\", \"\", \"twenty\", \"thirty\", \"fourty\",\n",
    "\"fifty\", \"sixty\", \"seventy\", \"eighty\", \"ninety\" };"
   ]
  },
  {
   "cell_type": "code",
   "execution_count": null,
   "metadata": {
    "slideshow": {
     "slide_type": "subslide"
    },
    "vscode": {
     "languageId": "polyglot-notebook"
    }
   },
   "outputs": [],
   "source": [
    "\n",
    "// Uneti broj od 1 do 19999\n",
    "int n = 19999;\n",
    "if (n < 1 || n > 19999) {\n",
    "    Console.WriteLine(\"Broj izvan opsega\");\n",
    "}\n",
    "\n",
    "else {\n",
    "    int k = n / 1000;\n",
    "    if(k > 0) \n",
    "    { \n",
    "        Console.Write(jedinice[k] + \" thousand \");\n",
    "    }\n",
    "\n",
    "    k = (n / 100) % 10;\n",
    "    if(k > 0) {\n",
    "        Console.Write(jedinice[k] + \" hundred \");\n",
    "    }\n",
    "\n",
    "    k = n % 100;\n",
    "    if(k >= 20) {\n",
    "        Console.Write(desetice[k / 10] + \" \");\n",
    "        k = k % 10;\n",
    "    }\n",
    "\n",
    "    if(k > 0) {\n",
    "        Console.Write(jedinice[k]);\n",
    "    }\n",
    "    Console.WriteLine();\n",
    "}"
   ]
  },
  {
   "cell_type": "markdown",
   "metadata": {
    "slideshow": {
     "slide_type": "slide"
    }
   },
   "source": [
    "## Metoda `split()`\n",
    "Čest primer gde su nam nizovi stringova korisni?"
   ]
  },
  {
   "cell_type": "markdown",
   "metadata": {
    "slideshow": {
     "slide_type": "fragment"
    }
   },
   "source": [
    "Kada učitavamo tekst iz datoteka.  "
   ]
  },
  {
   "cell_type": "markdown",
   "metadata": {
    "slideshow": {
     "slide_type": "subslide"
    }
   },
   "source": [
    "Npr čest format u kojem se skladište podaci jeste `.csv` (Comma separated values).  \n",
    "(Više o radu sa datotekama u sledećoj lekciji.)  "
   ]
  },
  {
   "cell_type": "markdown",
   "metadata": {
    "slideshow": {
     "slide_type": "fragment"
    }
   },
   "source": [
    "Za sad ćemo predstaviti prva dva reda jedne takve datoteke kao dva stringa."
   ]
  },
  {
   "cell_type": "code",
   "execution_count": null,
   "metadata": {
    "dotnet_interactive": {
     "language": "csharp"
    },
    "polyglot_notebook": {
     "kernelName": "csharp"
    },
    "slideshow": {
     "slide_type": "subslide"
    },
    "vscode": {
     "languageId": "polyglot-notebook"
    }
   },
   "outputs": [],
   "source": [
    "string zaglavlje = \"Ime, Prezime, Razred, Prosek\";\n",
    "string prvi_red = \"Jovan, Jovanovic, 1-11, 4.50\";\n",
    "\n",
    "string[] nazivi_kolona = zaglavlje.Split(','); // postoji vise nacina\n",
    "Console.WriteLine(\"Nazivi kolona: \");\n",
    "foreach(string kolona in nazivi_kolona)\n",
    "{\n",
    "    Console.WriteLine($\"\\t|{kolona}.\"); // zasto nisu poravnati?\n",
    "}"
   ]
  },
  {
   "cell_type": "markdown",
   "metadata": {
    "slideshow": {
     "slide_type": "subslide"
    }
   },
   "source": [
    "<style>\n",
    ".spoiler {\n",
    "  background-color: black;\n",
    "  color: black;\n",
    "}\n",
    ".spoiler:hover {\n",
    "  color: white;\n",
    "}\n",
    "</style>\n",
    "\n",
    "**Zaključak**: `Split()` je metoda nad objektima tipa `string` koja vraća vrednost tipa `string[]`."
   ]
  },
  {
   "cell_type": "markdown",
   "metadata": {
    "slideshow": {
     "slide_type": "subslide"
    }
   },
   "source": [
    "## Argumenti metode `Main()`"
   ]
  },
  {
   "cell_type": "markdown",
   "metadata": {
    "slideshow": {
     "slide_type": "fragment"
    }
   },
   "source": [
    "Iako smo često do sada viđali potpis/deklaraciju `Main()` metode bez ulaznih argumenata, ona može da ih ima i to isključivo kao jedan niz `string`ova."
   ]
  },
  {
   "cell_type": "code",
   "execution_count": null,
   "metadata": {
    "dotnet_interactive": {
     "language": "csharp"
    },
    "polyglot_notebook": {
     "kernelName": "csharp"
    },
    "slideshow": {
     "slide_type": "fragment"
    },
    "vscode": {
     "languageId": "polyglot-notebook"
    }
   },
   "outputs": [],
   "source": [
    "static void Main(string[] args){\n",
    "    // ...\n",
    "}"
   ]
  },
  {
   "cell_type": "markdown",
   "metadata": {
    "slideshow": {
     "slide_type": "subslide"
    }
   },
   "source": [
    "Main metodi argumente možemo proslediti jedino prilikom izvršavanja programa (tj iz komandne linije).  \n",
    "\n",
    "Hajde da vidimo kako to funkcioniše."
   ]
  },
  {
   "cell_type": "markdown",
   "metadata": {
    "slideshow": {
     "slide_type": "slide"
    }
   },
   "source": [
    "# Zadaci\n",
    "## 8.31.\n",
    "Napisati C# program koji racuna aritmetičku sredinu svih brojeva koji su navedeni u ulaznoj liniji.  \n",
    "Ulazna linija sadrži niz realnih brojeva gde su svaka dva razdvojena tacno jednim razmakom."
   ]
  },
  {
   "cell_type": "code",
   "execution_count": null,
   "metadata": {
    "dotnet_interactive": {
     "language": "csharp"
    },
    "polyglot_notebook": {
     "kernelName": "csharp"
    },
    "slideshow": {
     "slide_type": "fragment"
    },
    "vscode": {
     "languageId": "polyglot-notebook"
    }
   },
   "outputs": [],
   "source": [
    "// komandna linija"
   ]
  },
  {
   "cell_type": "markdown",
   "metadata": {
    "slideshow": {
     "slide_type": "subslide"
    }
   },
   "source": [
    "## 8.32.\n",
    "Napisati C# program koji nalazi najveci i najmanji od brojeva koji su navedeni u ulaznoj liniji.  \n",
    "Ulazna linija sadrži niz realnih brojeva gde su svaka dva razdvojena tačno jednim razmakom."
   ]
  },
  {
   "cell_type": "code",
   "execution_count": null,
   "metadata": {
    "dotnet_interactive": {
     "language": "csharp"
    },
    "polyglot_notebook": {
     "kernelName": "csharp"
    },
    "slideshow": {
     "slide_type": "fragment"
    },
    "vscode": {
     "languageId": "polyglot-notebook"
    }
   },
   "outputs": [],
   "source": [
    "// komandna linija"
   ]
  },
  {
   "cell_type": "markdown",
   "metadata": {
    "slideshow": {
     "slide_type": "subslide"
    }
   },
   "source": [
    "## 8.33. \n",
    "Napisati C# program koji od korisnika ucitava algebarski izraz oblika  \n",
    "\n",
    "      $⟨broj⟩+⟨broj⟩+...+⟨broj⟩$\n",
    "i racuna njegovu vrednost. Brojevi koje se javljaju u izrazu su pozitivni realni brojevi.  \n",
    "\n",
    "Primer: $12.5+62.12+34+11+25$  \n",
    "$144.62$"
   ]
  },
  {
   "cell_type": "code",
   "execution_count": null,
   "metadata": {
    "dotnet_interactive": {
     "language": "csharp"
    },
    "polyglot_notebook": {
     "kernelName": "csharp"
    },
    "slideshow": {
     "slide_type": "fragment"
    },
    "vscode": {
     "languageId": "polyglot-notebook"
    }
   },
   "outputs": [],
   "source": [
    "string input = \"12.5+62.12+34+11+25\";\n",
    "\n",
    "string[] numberStrings = input.Split('+');\n",
    "\n",
    "double sum = 0;\n",
    "\n",
    "foreach (string numberString in numberStrings)\n",
    "{\n",
    "    double number = double.Parse(numberString);\n",
    "    sum += number;\n",
    "}\n",
    "\n",
    "Console.WriteLine(\"Rezultat algebarskog izraza je: \" + sum);"
   ]
  },
  {
   "cell_type": "markdown",
   "metadata": {
    "slideshow": {
     "slide_type": "subslide"
    }
   },
   "source": [
    "## 8.34. \n",
    "Morzeov kôd izgleda ovako:\n",
    "| Letter | Morse Code | Letter | Morse Code | Letter | Morse Code | Letter | Morse Code |\n",
    "|--------|------------|--------|------------|--------|------------|--------|------------|\n",
    "| A      | ·−         | H      | ····       | O      | −−−        | U      | ··−        |\n",
    "| B      | −···       | I      | ··         | P      | ·−−·       | V      | ···−       |\n",
    "| C      | −·−·       | J      | ·−−−       | Q      | −−·−       | W      | ·−−        |\n",
    "| D      | −··        | K      | −·−        | R      | ·−·        | X      | −··−       |\n",
    "| E      | ·          | L      | ·−··       | S      | ···        | Y      | −·−−       |\n",
    "| F      | ··−·       | M      | −−         | T      | −          | Z      | −−··       |\n",
    "| G      | −−·        | N      | −·         |        |            |        |            |\n",
    "\n",
    "\n",
    "Napisati program koji od korisnika ucitava string koji se sastoji samo od velikih slova i praznina i  \n",
    "kodira ga Morzeovim kodom tako da se između kodova dva slova nalazi jedna praznina, a između reči dve praznine."
   ]
  },
  {
   "cell_type": "code",
   "execution_count": null,
   "metadata": {
    "dotnet_interactive": {
     "language": "csharp"
    },
    "polyglot_notebook": {
     "kernelName": "csharp"
    },
    "slideshow": {
     "slide_type": "subslide"
    },
    "vscode": {
     "languageId": "polyglot-notebook"
    }
   },
   "outputs": [],
   "source": [
    "string[] morseCode = new string[]\n",
    "{\n",
    "    \"·−\",   // A\n",
    "    \"−···\", // B\n",
    "    \"−·−·\", // C\n",
    "    \"−··\",  // D\n",
    "    \"·\",    // E\n",
    "    \"··−·\", // F\n",
    "    \"−−·\",  // G\n",
    "    \"····\", // H\n",
    "    \"··\",   // I\n",
    "    \"·−−−\", // J\n",
    "    \"−·−\",  // K\n",
    "    \"·−··\", // L\n",
    "    \"−−\",   // M\n",
    "    \"−·\",   // N\n",
    "    \"−−−\",  // O\n",
    "    \"·−−·\", // P\n",
    "    \"−−·−\", // Q\n",
    "    \"·−·\",  // R\n",
    "    \"···\",  // S\n",
    "    \"−\",    // T\n",
    "    \"··−\",  // U\n",
    "    \"···−\", // V\n",
    "    \"·−−\",  // W\n",
    "    \"−··−\", // X\n",
    "    \"−·−−\", // Y\n",
    "    \"−−··\"  // Z\n",
    "};"
   ]
  },
  {
   "cell_type": "code",
   "execution_count": null,
   "metadata": {
    "slideshow": {
     "slide_type": "subslide"
    },
    "vscode": {
     "languageId": "polyglot-notebook"
    }
   },
   "outputs": [],
   "source": [
    "string input = \"HELLO WORLD\"; // sta ako nisu sva velika\n",
    "// sta ako nisu slova\n",
    "\n",
    "string result = \"\";\n",
    "\n",
    "foreach (char c in input)\n",
    "{\n",
    "    if(c == ' ')\n",
    "        result += \"  \";\n",
    "    else\n",
    "        result += morseCode[c - 'A'] + \" \";\n",
    "}\n",
    "\n",
    "Console.WriteLine(result);\n"
   ]
  },
  {
   "cell_type": "markdown",
   "metadata": {
    "slideshow": {
     "slide_type": "subslide"
    }
   },
   "source": [
    "## 8.35.\n",
    "Napisati program koji ucitava broj iz skupa ${1,2,...,2 000 000 000}$ i ispisuje taj broj recima na srpskom jeziku.  \n",
    "Na primer, za 328 program treba da ispiše:  \n",
    "`tri stotine dvadeset osam`"
   ]
  },
  {
   "cell_type": "markdown",
   "metadata": {
    "slideshow": {
     "slide_type": "subslide"
    }
   },
   "source": [
    "## 8.36.\n",
    "Napisati C# program koji od korisnika ucitava dva razlomka i potom određuje i štampa njihovu razliku.  \n",
    "Razlomci se učitavaju kao stringovi u obliku $“a/b”$ gde je a neki ceo broj, a b je prirodan broj,  \n",
    "i u istom obliku treba da bude odštampana i njihova razlika. (Primer je dat ispod.)  \n",
    "Pretpostavlja se da ce korisnik poštovati konvenciju o zapisu razlomaka i zato ne treba \n",
    "proveravati korektnost ulaznih podataka.\n",
    "```\n",
    "Unesi razlomak -> -5/6\n",
    "Unesi razlomak -> 7/10\n",
    "Razlika je -23/15\n",
    "```\n"
   ]
  },
  {
   "cell_type": "code",
   "execution_count": null,
   "metadata": {
    "dotnet_interactive": {
     "language": "csharp"
    },
    "polyglot_notebook": {
     "kernelName": "csharp"
    },
    "vscode": {
     "languageId": "polyglot-notebook"
    }
   },
   "outputs": [],
   "source": [
    "string razlomak1 = \"-5/6\";\n",
    "string razlomak2 = \"7/10\";\n",
    "\n",
    "// Parsiranje stringa\n",
    "string[] delovi1 = razlomak1.Split('/');\n",
    "int brojilac1 = int.Parse(delovi1[0]);\n",
    "int imenilac1 = int.Parse(delovi1[1]);\n",
    "\n",
    "string[] delovi2 = razlomak2.Split('/');\n",
    "int brojilac2 = int.Parse(delovi2[0]);\n",
    "int imenilac2 = int.Parse(delovi2[1]);\n",
    "\n",
    "// Prosirivanje razlomka\n",
    "int zajednickiImenilac = imenilac1 * imenilac2;\n",
    "int prilagodjeniBrojilac1 = brojilac1 * imenilac2;\n",
    "int prilagodjeniBrojilac2 = brojilac2 * imenilac1;\n",
    "\n",
    "// Rezultat\n",
    "int rezultatBrojilac = prilagodjeniBrojilac1 - prilagodjeniBrojilac2;\n",
    "int rezultatImenilac = zajednickiImenilac;\n",
    "\n",
    "// Skracivanje razlomka\n",
    "int NZD = NajveciZajednickiDelilac(Math.Abs(rezultatBrojilac), rezultatImenilac);\n",
    "rezultatBrojilac /= NZD;\n",
    "rezultatImenilac /= NZD;\n",
    "\n",
    "Console.WriteLine($\"Razlika je {rezultatBrojilac}/{rezultatImenilac}\");\n",
    "\n",
    "int NajveciZajednickiDelilac(int a, int b)\n",
    "{\n",
    "    while (b != 0)\n",
    "    {\n",
    "        int temp = b;\n",
    "        b = a % b;\n",
    "        a = temp;\n",
    "    }\n",
    "    return a;\n",
    "}\n"
   ]
  },
  {
   "cell_type": "markdown",
   "metadata": {
    "slideshow": {
     "slide_type": "subslide"
    }
   },
   "source": [
    "## 8.37.\n",
    "(Hronometar) Napisati program koji od korisnika ucitava string u obliku ˇ\n",
    "“h:m:s” gde su h, m i s tri cela broja i proverava da li oni predstavljaju\n",
    "korektno zapisano vreme (sati, minuti, sekunde), odnosno, da li je  \n",
    "$h ⩾ 0$ i $0 ⩽ m,s ⩽ 59$.  \n",
    "(Pažnja: ovo nije casovnik, več hornometar, dakle uređaj koji meri koliko je vremena proteklo!)  \n",
    "\n",
    "Ukoliko se radi o korektno zapisanom\n",
    "vremenu, ucitati pozitivan ceo broj `q` koji predstavlja neki broj sekundi, i\n",
    "potom ispisati novo vreme u obliku “h:m:s” koje se dobija tako što se na\n",
    "ucitano vreme dodaju učitane sekunde.  \n",
    "\n",
    "Na primer, ako je korisnik uneo $31:58:30$ i $q = 1251$, racunar treba da ispiše $32:19:21$."
   ]
  },
  {
   "cell_type": "code",
   "execution_count": null,
   "metadata": {
    "dotnet_interactive": {
     "language": "csharp"
    },
    "polyglot_notebook": {
     "kernelName": "csharp"
    },
    "vscode": {
     "languageId": "polyglot-notebook"
    }
   },
   "outputs": [],
   "source": [
    "string vreme = \"31:58:30\";\n",
    "string[] delovi = vreme.Split(':');\n",
    "\n",
    "if (delovi.Length != 3)\n",
    "{\n",
    "    Console.WriteLine(\"Pogrešan format vremena.\");\n",
    "    return;\n",
    "}\n",
    "\n",
    "int sati = int.Parse(delovi[0]);\n",
    "int minuti = int.Parse(delovi[1]);\n",
    "int sekunde = int.Parse(delovi[2]);\n",
    "\n",
    "if (sati < 0 || minuti < 0 || minuti > 59 || sekunde < 0 || sekunde > 59)\n",
    "{\n",
    "    Console.WriteLine(\"Pogrešan zapis vremena.\");\n",
    "    return;\n",
    "}\n",
    "\n",
    "int q = 1251;\n",
    "\n",
    "sekunde += q;\n",
    "minuti += sekunde / 60;\n",
    "sekunde %= 60;\n",
    "sati += minuti / 60;\n",
    "minuti %= 60;\n",
    "\n",
    "Console.WriteLine($\"Novo vreme je {sati}:{minuti:D2}:{sekunde:D2}\");"
   ]
  },
  {
   "cell_type": "markdown",
   "metadata": {
    "slideshow": {
     "slide_type": "subslide"
    }
   },
   "source": [
    "## 8.38. \n",
    "Napisati C# metod\n",
    "`static void Istekli(string danas, string[] sifra, string[] datumisteka)`\n",
    "koji prihvata informacije o današnjem datumu i proizvodima u skladištu\n",
    "jedne kompanije i na konzolu ispisuje šifre proizvoda kojima je istekao rok\n",
    "trajanja.  \n",
    "\n",
    "Argument danas predstavlja string koji sadrži današnji datum, niz\n",
    "`sifra` predstavlja niz šifara proizvoda u skladištu, dok niz `datumisteka`\n",
    "sadrži niz stringova koji predstavljaju datume isteka proizvoda cije šifre ˇ\n",
    "su date u nizu `sifra`.  \n",
    "\n",
    "Pri tome nizovi `sifra` i `datumisteka` imaju istu\n",
    "duzinu i to ne treba proveravati, proizvod sa šifrom `sifra`[0] ima datum isteka `datumisteka`[0], i tako dalje.  \n",
    "\n",
    "Svi datumi su dati u obliku\n",
    "stringa “dd.mm.gggg” (dan-mesec-godina) dužine 10, na primer ovako:\n",
    "“19.05.2020”. Svi datumi su korektni i to ne treba proveravati. Proizvodu\n",
    "je istekao rok trajanja ako se datum isteka nalazi u prošlosti u odnosu na\n",
    "današnji datum."
   ]
  },
  {
   "cell_type": "code",
   "execution_count": null,
   "metadata": {
    "dotnet_interactive": {
     "language": "csharp"
    },
    "polyglot_notebook": {
     "kernelName": "csharp"
    },
    "vscode": {
     "languageId": "polyglot-notebook"
    }
   },
   "outputs": [],
   "source": [
    "using System;\n",
    "\n",
    "static void Istekli(string danas, string[] sifra, string[] datumisteka)\n",
    "{\n",
    "    string[] danasParts = danas.Split('.');\n",
    "    int danasDan = int.Parse(danasParts[0]);\n",
    "    int danasMesec = int.Parse(danasParts[1]);\n",
    "    int danasGodina = int.Parse(danasParts[2]);\n",
    "\n",
    "    for (int i = 0; i < sifra.Length; i++)\n",
    "    {\n",
    "        string[] datumParts = datumisteka[i].Split('.');\n",
    "        int istekDan = int.Parse(datumParts[0]);\n",
    "        int istekMesec = int.Parse(datumParts[1]);\n",
    "        int istekGodina = int.Parse(datumParts[2]);\n",
    "\n",
    "        if (istekGodina < danasGodina ||\n",
    "            (istekGodina == danasGodina && istekMesec < danasMesec) ||\n",
    "            (istekGodina == danasGodina && istekMesec == danasMesec && istekDan < danasDan))\n",
    "        {\n",
    "            Console.WriteLine(sifra[i]);\n",
    "        }\n",
    "    }\n",
    "}\n",
    "\n",
    "// Primer poziva metoda\n",
    "string danas = \"21.05.2024\";\n",
    "string[] sifra = { \"123\", \"456\", \"789\" };\n",
    "string[] datumisteka = { \"20.05.2024\", \"22.05.2024\", \"19.05.2024\" };\n",
    "\n",
    "Istekli(danas, sifra, datumisteka);"
   ]
  },
  {
   "cell_type": "markdown",
   "metadata": {
    "slideshow": {
     "slide_type": "subslide"
    }
   },
   "source": [
    "## 8.39.\n",
    "Svakog ponedeljka u jednoj maloj medunarodnoj softverskoj kompaniji ¯\n",
    "se održava on-line sastanak svih zaposlenih kako bi se odredili prioriteti\n",
    "za tekucu radnu sedmicu. Pošto kompanija ima odeljenja koja se nalaze ´\n",
    "u razlicitim vremenskim zonama i pošto neki od zaposlenih več možda ´\n",
    "imaju zakazane sastanke sa klijentima, svakog petka svi zaposleni treba\n",
    "da popune on-line formu u koju unose vremenski interval (samo jedan)\n",
    "u kome bi im odgovaralo da se sastanak narednog ponedeljka organizuje.\n",
    "Nezavisno od vremenske zone u kojoj se nalaze, zaposleni u on-line formu\n",
    "unose vreme koje im odgovara po Grinicu, pa svako posle preračunava ˇ\n",
    "termin sastanka za svoju vremensku zonu. Primer konacnog izveštaja je ˇ\n",
    "dat u Tabeli 8.2.  \n",
    "\n",
    "Napisati C# metod\n",
    "`static (string, string, string) Meeting(string[] AvailableFrom, string[] AvailableTo)  `\n",
    "\n",
    "koji za date podatke racuna i vrača u obliku stringa sledeća tri podatka:  \n",
    "• kada najranije može da pocne sastanak,  \n",
    "• kada najkasnije može da se završi,  \n",
    "• koliko najduže može da traje.  \n",
    "\n",
    "Metod prihvata dva niza stringova, `AvailableFrom` i `AvailableTo`, koji sadrže vremena koja su zaposleni naveli u tabeli tako da je i-ti zaposleni raspoloživ za sastanak od vremena `AvailableFrom`[i] do vremena `AvailableTo`[i]. Svi stringovi treba da sadrže vremena u obliku\n",
    "\"HH:MM\", na primer, \"13:45\". Ako sastanak ne može da se organizuje zato što ne postoji termin koji svima odgovara treci rezultat rada metoda ´\n",
    "(trajanje sastanka) treba da sadrži string \"00:00\".\n",
    "\n",
    "### Tabela 8.2\n",
    "| Name   | From  | To    |\n",
    "|--------|-------|-------|\n",
    "| Alex   | 09:00 | 15:00 |\n",
    "| Barbara| 03:00 | 12:00 |\n",
    "| Cecil  | 00:00 | 23:59 |\n",
    "| David  | 11:00 | 21:15 |\n",
    "| Edward | 10:15 | 13:45 |\n"
   ]
  }
 ],
 "metadata": {
  "kernelspec": {
   "display_name": ".NET (C#)",
   "language": "C#",
   "name": ".net-csharp"
  },
  "language_info": {
   "file_extension": ".cs",
   "mimetype": "text/x-csharp",
   "name": "C#",
   "pygments_lexer": "csharp",
   "version": "12.0"
  },
  "polyglot_notebook": {
   "kernelInfo": {
    "defaultKernelName": "csharp",
    "items": [
     {
      "aliases": [],
      "name": "csharp"
     }
    ]
   }
  }
 },
 "nbformat": 4,
 "nbformat_minor": 4
}
