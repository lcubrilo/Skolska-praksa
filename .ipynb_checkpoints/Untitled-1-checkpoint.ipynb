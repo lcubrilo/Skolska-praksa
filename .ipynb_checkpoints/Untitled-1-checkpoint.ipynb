{
 "cells": [
  {
   "cell_type": "markdown",
   "metadata": {
    "slideshow": {
     "slide_type": "slide"
    }
   },
   "source": [
    "# Uvod u bibliotečke funkcije za rad sa stringovima\n",
    "Predmet: Računarstvo i informatika  \n",
    "Student: Luka Čubrilo  "
   ]
  },
  {
   "cell_type": "markdown",
   "metadata": {
    "slideshow": {
     "slide_type": "slide"
    }
   },
   "source": [
    "Stringovi su veoma važni u programiranju i postoje brojne funkcije za njihovu manipulaciju."
   ]
  },
  {
   "cell_type": "markdown",
   "metadata": {
    "slideshow": {
     "slide_type": "subslide"
    }
   },
   "source": [
    "## Konverzija između stringova i numeričkih tipova\n",
    "Za konverziju stringa u numerički tip koristi se `Parse` metod, dok se za konverziju numeričkog tipa u string koristi `ToString` metod."
   ]
  },
  {
   "cell_type": "code",
   "execution_count": 22,
   "metadata": {
    "slideshow": {
     "slide_type": "fragment"
    }
   },
   "outputs": [
    {
     "name": "stdout",
     "output_type": "stream",
     "text": [
      "Variable x: 123,45, Type: System.Double\n",
      "Variable n: 123, Type: System.Int32\n",
      "Variable s2: \"123\", Type: System.String\n",
      "Variable s3: \"123,45\", Type: System.String\n"
     ]
    }
   ],
   "source": [
    "string s = \"123,45\";\n",
    "\n",
    "double x = double.Parse(s);\n",
    "Console.WriteLine($\"Variable x: {x}, Type: {x.GetType()}\");\n",
    "\n",
    "// int n = int.Parse(s); // FormatException\n",
    "int n = Convert.ToInt32(x);\n",
    "Console.WriteLine($\"Variable n: {n}, Type: {n.GetType()}\");\n",
    "\n",
    "string s2 = n.ToString();\n",
    "string s3 = x.ToString();\n",
    "\n",
    "Console.WriteLine($\"Variable s2: \\\"{s2}\\\", Type: {s2.GetType()}\");\n",
    "Console.WriteLine($\"Variable s3: \\\"{s3}\\\", Type: {s3.GetType()}\");\n"
   ]
  },
  {
   "cell_type": "markdown",
   "metadata": {
    "slideshow": {
     "slide_type": "subslide"
    }
   },
   "source": [
    "## Poređenje stringova\n",
    "Za poređenje stringova u C# koristi se metod `CompareTo` koji poredi stringove leksikografski."
   ]
  },
  {
   "cell_type": "code",
   "execution_count": 23,
   "metadata": {
    "slideshow": {
     "slide_type": "fragment"
    }
   },
   "outputs": [
    {
     "name": "stdout",
     "output_type": "stream",
     "text": [
      "bar je manje od bara\n"
     ]
    }
   ],
   "source": [
    "string s = \"bar\";\n",
    "string t = \"bara\";\n",
    "\n",
    "int result = s.CompareTo(t);\n",
    "\n",
    "if (result < 0) Console.WriteLine(\"{0} je manje od {1}\", s, t);\n",
    "else if (result == 0) Console.WriteLine(\"{0} je jednako {1}\", s, t);\n",
    "else Console.WriteLine(\"{0} je veće od {1}\", s, t);"
   ]
  },
  {
   "cell_type": "markdown",
   "metadata": {
    "slideshow": {
     "slide_type": "subslide"
    }
   },
   "source": [
    "## Sve velika i sve mala slova\n",
    "Metode `ToUpper` i `ToLower` konvertuju sva slova u velika ili mala."
   ]
  },
  {
   "cell_type": "code",
   "execution_count": 24,
   "metadata": {
    "slideshow": {
     "slide_type": "fragment"
    }
   },
   "outputs": [
    {
     "name": "stdout",
     "output_type": "stream",
     "text": [
      "peraPERA\n"
     ]
    }
   ],
   "source": [
    "string s = \"Pera\";\n",
    "string t = s.ToLower();\n",
    "string u = s.ToUpper();\n",
    "\n",
    "Console.WriteLine($\"Lower: {t}\\n Upper: {u}\"); // ispisuje \"perapERA\""
   ]
  },
  {
   "cell_type": "markdown",
   "metadata": {
    "slideshow": {
     "slide_type": "subslide"
    }
   },
   "source": [
    "## Metode IndexOf i Substring\n",
    "`IndexOf` traži prvo pojavljivanje karaktera ili stringa, a `Substring` vraća podstring."
   ]
  },
  {
   "cell_type": "code",
   "execution_count": null,
   "metadata": {
    "slideshow": {
     "slide_type": "fragment"
    }
   },
   "outputs": [],
   "source": [
    "string s = \"barbara\";\n",
    "int index = s.IndexOf(\"bara\"); // vraća 3\n",
    "string sub = s.Substring(2, 4); // vraća \"rbar\""
   ]
  },
  {
   "cell_type": "markdown",
   "metadata": {
    "slideshow": {
     "slide_type": "slide"
    }
   },
   "source": [
    "# Primeri programa"
   ]
  },
  {
   "cell_type": "markdown",
   "metadata": {
    "slideshow": {
     "slide_type": "subslide"
    }
   },
   "source": [
    "### Konverzija temperature\n",
    "Program konvertuje temperaturu između Farenhajta i Celzijusa na osnovu ulaznog stringa."
   ]
  },
  {
   "cell_type": "code",
   "execution_count": null,
   "metadata": {
    "slideshow": {
     "slide_type": "fragment"
    }
   },
   "outputs": [],
   "source": [
    "using System;\n",
    "class CelFar {\n",
    "    static void Main() {\n",
    "        Console.Write(\"Temperatura -> \");\n",
    "        string s = Console.ReadLine();\n",
    "        int L = s.Length;\n",
    "        if (L == 0) { Console.WriteLine(\"Greska\"); }\n",
    "        else if (char.ToUpper(s[L - 1]) == 'C') {\n",
    "            double tC = double.Parse(s.Substring(0, L - 1));\n",
    "            double tF = 1.8 * tC + 32.0;\n",
    "            Console.WriteLine(\"{0}C = {1}F\", tC, tF);\n",
    "        } else if (char.ToUpper(s[L - 1]) == 'F') {\n",
    "            double tF = double.Parse(s.Substring(0, L - 1));\n",
    "            double tC = (tF - 32.0) / 1.8;\n",
    "            Console.WriteLine(\"{0}F = {1}C\", tF, tC);\n",
    "        } else { Console.WriteLine(\"Nepoznata jedinica\"); }\n",
    "    }\n",
    "}"
   ]
  },
  {
   "cell_type": "markdown",
   "metadata": {
    "slideshow": {
     "slide_type": "subslide"
    }
   },
   "source": [
    "### Računanje zbira\n",
    "Program računa zbir dva realna broja uneta kao string sa operatorom `+` između njih."
   ]
  },
  {
   "cell_type": "code",
   "execution_count": null,
   "metadata": {
    "slideshow": {
     "slide_type": "fragment"
    }
   },
   "outputs": [],
   "source": [
    "using System;\n",
    "class RacunajZbir {\n",
    "    static void Main() {\n",
    "        Console.Write(\"Izraz -> \");\n",
    "        string s = Console.ReadLine();\n",
    "        int L = s.Length;\n",
    "        int n = s.IndexOf('+');\n",
    "        if (L == 0) { Console.WriteLine(\"Prazan string\"); }\n",
    "        else if (n == 0) { Console.WriteLine(\"Nema znaka +\"); }\n",
    "        else {\n",
    "            double a = double.Parse(s.Substring(0, n));\n",
    "            double b = double.Parse(s.Substring(n + 1));\n",
    "            Console.WriteLine(\"{0}+{1}={2}\", a, b, a + b);\n",
    "        }\n",
    "    }\n",
    "}"
   ]
  }
 ],
 "metadata": {
  "kernelspec": {
   "display_name": ".NET (C#)",
   "language": "C#",
   "name": ".net-csharp"
  },
  "language_info": {
   "file_extension": ".cs",
   "mimetype": "text/x-csharp",
   "name": "C#",
   "pygments_lexer": "csharp",
   "version": "12.0"
  },
  "rise": {
   "autolaunch": true,
   "start_slideshow_at": "selected",
   "transition": "fade"
  }
 },
 "nbformat": 4,
 "nbformat_minor": 4
}
