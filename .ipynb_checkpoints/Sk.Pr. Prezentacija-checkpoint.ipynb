{
 "cells": [
  {
   "cell_type": "markdown",
   "id": "d19eb30f-4922-4674-8a69-d1ac4d5e07a5",
   "metadata": {},
   "source": [
    "# Bibliotečke funkcije za rad sa stringovima 2\n",
    "Predmet: Računarstvo i informatika (Školska praksa)  \n",
    "Student: Luka Čubrilo  "
   ]
  },
  {
   "cell_type": "code",
   "execution_count": null,
   "id": "a6bd4a4d-e0cf-4c47-90dd-46b442c2422a",
   "metadata": {},
   "outputs": [],
   "source": [
    "# asdas"
   ]
  },
  {
   "cell_type": "markdown",
   "id": "232fd0aa",
   "metadata": {},
   "source": [
    "## Tehnički detalji:\n",
    "Korišćeni alati:\n",
    "- Jupyter Notebooks\n",
    "- .NET Interactive [[Tutorijal]](https://github.com/dotnet/interactive/blob/main/docs/NotebookswithJupyter.md)\n",
    "- RISE ekstenzija za prezentacije [[Tutorijal]](https://rise.readthedocs.io/en/latest/installation.html)\n",
    "- Binder za cloud hosting\n",
    "   \n",
    "Interaktivna notebook prezentacija napravljena korišćenjem ."
   ]
  }
 ],
 "metadata": {
  "kernelspec": {
   "display_name": ".NET (C#)",
   "language": "C#",
   "name": ".net-csharp"
  },
  "language_info": {
   "file_extension": ".cs",
   "mimetype": "text/x-csharp",
   "name": "C#",
   "pygments_lexer": "csharp",
   "version": "12.0"
  }
 },
 "nbformat": 4,
 "nbformat_minor": 5
}
