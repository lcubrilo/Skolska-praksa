{
 "cells": [
  {
   "cell_type": "markdown",
   "metadata": {},
   "source": [
    "# Nizovi stringova\n",
    "Predmet: Računarstvo i informatika  \n",
    "Student: Luka Čubrilo  "
   ]
  },
  {
   "cell_type": "markdown",
   "metadata": {},
   "source": [
    "## Uvod\n",
    "Moguće je deklarisati niz bilo kog tipa, pa tako i za tip `string` (\"niske\")"
   ]
  },
  {
   "cell_type": "code",
   "execution_count": 10,
   "metadata": {
    "dotnet_interactive": {
     "language": "csharp"
    },
    "polyglot_notebook": {
     "kernelName": "csharp"
    },
    "vscode": {
     "languageId": "polyglot-notebook"
    }
   },
   "outputs": [
    {
     "name": "stdout",
     "output_type": "stream",
     "text": [
      "Niz stringova ima sledeći sadržaj: System.String[].\n",
      "Promenljiva `s` je tipa System.String[]\n",
      "Dok su njeni članovi tipa System.String\n",
      "Hello\n",
      "World\n",
      "My\n",
      "Name\n",
      "Is\n"
     ]
    }
   ],
   "source": [
    "string [] s = {\"Hello\", \"World\", \"My\", \"Name\", \"Is\"};\n",
    "Console.WriteLine($\"Niz stringova ima sledeći sadržaj: {s}.\");\n",
    "Console.WriteLine($\"Promenljiva `s` je tipa {s.GetType()}\");"
   ]
  },
  {
   "cell_type": "markdown",
   "metadata": {},
   "source": [
    "Pristupamo stringovima u ovom nizu, kao i članovima bilo kog drugog niza:\n",
    "1. Korišćenjem uglastih zagrada i indeksa\n",
    "2. Korišćenjem foreach petlje"
   ]
  },
  {
   "cell_type": "code",
   "execution_count": null,
   "metadata": {
    "vscode": {
     "languageId": "polyglot-notebook"
    }
   },
   "outputs": [],
   "source": [
    "Console.WriteLine($\"Dok su njeni članovi tipa {s[0].GetType()}\");\n",
    "\n",
    "foreach(string rec in s)\n",
    "{\n",
    "    Console.WriteLine(rec);\n",
    "}"
   ]
  },
  {
   "cell_type": "markdown",
   "metadata": {},
   "source": [
    "Primer [iz profesorove knjige]:"
   ]
  },
  {
   "cell_type": "code",
   "execution_count": 23,
   "metadata": {
    "vscode": {
     "languageId": "polyglot-notebook"
    }
   },
   "outputs": [
    {
     "name": "stdout",
     "output_type": "stream",
     "text": [
      "nineteen thousand nine hundred ninety nine\n"
     ]
    }
   ],
   "source": [
    "string[] jedinice = { \"\", \"one\", \"two\", \"three\",\n",
    "\"four\", \"five\", \"six\", \"seven\", \"eight\", \"nine\", \"ten\",\n",
    "\"eleven\", \"twelve\", \"thirteen\", \"fourteen\", \"fifteen\",\n",
    "\"sixteen\", \"seventeen\", \"eighteen\", \"nineteen\" };\n",
    "\n",
    "string[] desetice = { \"\", \"\", \"twenty\", \"thirty\", \"fourty\",\n",
    "\"fifty\", \"sixty\", \"seventy\", \"eighty\", \"ninety\" };\n",
    "\n",
    "// Uneti broj od 1 do 19999\n",
    "int n = 19999;\n",
    "if (n < 1 || n > 19999) {\n",
    "    Console.WriteLine(\"Broj izvan opsega\");\n",
    "}\n",
    "\n",
    "else {\n",
    "    int k = n / 1000;\n",
    "    if(k > 0) \n",
    "    { \n",
    "        Console.Write(jedinice[k] + \" thousand \");\n",
    "    }\n",
    "\n",
    "    k = (n / 100) % 10;\n",
    "    if(k > 0) {\n",
    "        Console.Write(jedinice[k] + \" hundred \");\n",
    "    }\n",
    "\n",
    "    k = n % 100;\n",
    "    if(k >= 20) {\n",
    "        Console.Write(desetice[k / 10] + \" \");\n",
    "        k = k % 10;\n",
    "    }\n",
    "\n",
    "    if(k > 0) {\n",
    "        Console.Write(jedinice[k]);\n",
    "    }\n",
    "    Console.WriteLine();\n",
    "}"
   ]
  },
  {
   "cell_type": "markdown",
   "metadata": {},
   "source": [
    "Čest primer gde su nam nizovi stringova korisni?"
   ]
  },
  {
   "cell_type": "markdown",
   "metadata": {},
   "source": [
    "Kada učitavamo tekst iz datoteka.  \n",
    "\n",
    "Npr čest format u kojem se skladište podaci jeste `.csv` (Comma separated values).  \n",
    "Više o radu sa datotekama u sledećoj lekciji.  \n",
    "Za sad ćemo predstaviti prva dva reda jedne takve datoteke kao dva stringa."
   ]
  },
  {
   "cell_type": "code",
   "execution_count": 15,
   "metadata": {
    "vscode": {
     "languageId": "polyglot-notebook"
    }
   },
   "outputs": [
    {
     "name": "stdout",
     "output_type": "stream",
     "text": [
      "Nazivi kolona: \n",
      "\t|Ime.\n",
      "\t| Prezime.\n",
      "\t| Razred.\n",
      "\t| Prosek.\n"
     ]
    }
   ],
   "source": [
    "string zaglavlje = \"Ime, Prezime, Razred, Prosek\";\n",
    "string prvi_red = \"Jovan, Jovanovic, 1-11, 4.50\";\n",
    "\n",
    "string[] nazivi_kolona = zaglavlje.Split(',');\n",
    "Console.WriteLine(\"Nazivi kolona: \");\n",
    "foreach(string kolona in nazivi_kolona)\n",
    "{\n",
    "    Console.WriteLine($\"\\t|{kolona}.\");\n",
    "}"
   ]
  },
  {
   "cell_type": "markdown",
   "metadata": {},
   "source": [
    "**Zaključak**: `Split()` je metoda nad objektima tipa `string` koja vraća vrednost tipa `string[]`."
   ]
  }
 ],
 "metadata": {
  "kernelspec": {
   "display_name": ".NET (C#)",
   "language": "C#",
   "name": ".net-csharp"
  },
  "language_info": {
   "name": "python"
  },
  "polyglot_notebook": {
   "kernelInfo": {
    "defaultKernelName": "csharp",
    "items": [
     {
      "aliases": [],
      "name": "csharp"
     }
    ]
   }
  }
 },
 "nbformat": 4,
 "nbformat_minor": 2
}
